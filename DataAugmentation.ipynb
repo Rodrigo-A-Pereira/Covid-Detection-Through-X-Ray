{
    "nbformat": 4,
    "nbformat_minor": 0,
    "metadata": {
        "colab": {
            "name": "DataAugmentation.ipynb",
            "provenance": [],
            "collapsed_sections": []
        },
        "kernelspec": {
            "name": "python3",
            "display_name": "Python 3"
        }
    },
    "cells": [
        {
            "cell_type": "code",
            "metadata": {
                "id": "rmbr8NWmL0VS",
                "colab": {
                    "base_uri": "https://localhost:8080/",
                    "height": 54
                },
                "executionInfo": {
                    "status": "ok",
                    "timestamp": 1586622542688,
                    "user_tz": -60,
                    "elapsed": 409
                },
                "outputId": "03f6f908-6f73-40b9-a8b8-9c942719e0a5"
            },
            "source": [
                "import numpy as np\n",
                "import time\n",
                "import os\n",
                "import cv2\n",
                "from google.colab import drive\n",
                "import imageio\n",
                "import imgaug as ia\n",
                "from imgaug import augmenters as iaa\n",
                "import os\n"
            ],
            "execution_count": null,
            "outputs": []
        },
        {
            "cell_type": "code",
            "metadata": {
                "id": "CGDTEcOBOz_z"
            },
            "source": [
                "BASEDIR = '.'\n",
                "TRAINDATAPATH = BASEDIR+'/dataset_covid_pneumonia/train'\n",
                "TESTDATAPATH = BASEDIR+'/dataset_covid_pneumonia/test'\n",
                "VALIDDATAPATH = BASEDIR+'/dataset_covid_pneumonia/valid'\n",
                "lst_paths=[TRAINDATAPATH,TESTDATAPATH,VALIDDATAPATH]\n",
                "IMG_SIZE=(224,224)"
            ],
            "execution_count": null,
            "outputs": []
        },
        {
            "cell_type": "code",
            "metadata": {
                "id": "R-n9BHnUN51I",
                "colab": {
                    "base_uri": "https://localhost:8080/",
                    "height": 1000
                },
                "executionInfo": {
                    "status": "ok",
                    "timestamp": 1586622587744,
                    "user_tz": -60,
                    "elapsed": 37916
                },
                "outputId": "c410b6ad-0f54-4708-a2ac-6d306b68d348"
            },
            "source": [
                "NUM_TIMES=3\n",
                "for p in lst_paths:\n",
                "  for case in [\"Corona\",\"Non-Corona\",\"Pneumonia\"]: \n",
                "    testPath = os.path.join(p,case)\n",
                "    original_lst=[]\n",
                "    for filename in os.listdir(testPath):\n",
                "      img_path = os.path.join(testPath,filename)\n",
                "      img_array = cv2.imread(img_path,cv2.IMREAD_GRAYSCALE)\n",
                "      img_array = cv2.resize(img_array,IMG_SIZE)\n",
                "      new_array = cv2.cvtColor(img_array,cv2.COLOR_GRAY2RGB)\n",
                "      original_lst.append(new_array)\n",
                "    original_lst=np.array(original_lst)\n",
                "\n",
                "    ia.seed(4)\n",
                "    seq = iaa.Sequential([\n",
                "      iaa.Affine(rotate=(-25, 25),),\n",
                "      iaa.AdditiveGaussianNoise(scale=(0, 5)),\n",
                "      iaa.Crop(percent=(0.05, 0.2)),\n",
                "      iaa.Fliplr(0.5),\n",
                "    ])\n",
                "    count=0\n",
                "    path=p+\"/\"+case+\"/\"\n",
                "    for i in range(NUM_TIMES):\n",
                "      tmp_lst=seq(images=original_lst)\n",
                "      for ima in tmp_lst:\n",
                "        img_path=path+\"aug\"+str(count)+\".jpg\"\n",
                "        print(img_path)\n",
                "        cv2.imwrite(img_path,ima)\n",
                "        count+=1\n",
                "      print('NEW_BATCH')\n",
                "    print('NEW LABEL')\n",
                "    print()\n",
                "    \n",
                "  print(\"NEW DIR\")\n"
            ],
            "execution_count": null,
            "outputs": []
        },
        {
            "cell_type": "code",
            "metadata": {
                "id": "A9dUsLycWgry"
            },
            "source": [],
            "execution_count": null,
            "outputs": []
        }
    ]
}