{
    "nbformat": 4,
    "nbformat_minor": 0,
    "metadata": {
        "colab": {
            "name": "MultiClassTransferLearning.ipynb",
            "provenance": [],
            "collapsed_sections": []
        },
        "kernelspec": {
            "name": "python3",
            "display_name": "Python 3"
        },
        "accelerator": "GPU"
    },
    "cells": [
        {
            "cell_type": "code",
            "metadata": {
                "id": "m-AU8TaAy7Fb",
                "colab": {
                    "base_uri": "https://localhost:8080/",
                    "height": 122
                },
                "executionInfo": {
                    "status": "ok",
                    "timestamp": 1586867577800,
                    "user_tz": -60,
                    "elapsed": 325632
                },
                "outputId": "3aaf7d09-7ebf-4742-f457-82eb2f451ff8"
            },
            "source": [
                "BASEDIR = '.'\n",
                "TRAINDATAPATH = 'dataset_covid_pneumonia/train'\n",
                "TESTDATAPATH = 'dataset_covid_pneumonia/test'\n",
                "VALIDDATAPATH = 'dataset_covid_pneumonia/valid'"
            ],
            "execution_count": null,
            "outputs": []
        },
        {
            "cell_type": "code",
            "metadata": {
                "id": "3Rf3W8c61u8H"
            },
            "source": [
                "import tensorflow as tf\n",
                "from tensorflow.keras import models\n",
                "from tensorflow.keras.layers import Dense,Dropout,Activation,Flatten,Conv2D,\\\n",
                "                                    MaxPooling2D,BatchNormalization,\\\n",
                "                                    MaxPooling2D,AveragePooling2D,\\\n",
                "                                    GlobalMaxPooling2D,GlobalAveragePooling2D,\\\n",
                "                                    Concatenate,Input,ZeroPadding2D,Reshape\n",
                "                                    \n",
                "from keras.layers.merge import concatenate\n",
                "import numpy as np\n",
                "import time\n",
                "import os\n",
                "\n",
                "from keras.preprocessing.image import ImageDataGenerator\n",
                "from keras.preprocessing.image import img_to_array, load_img\n",
                "from tensorflow.keras.callbacks import TensorBoard\n",
                "\n",
                "from tensorflow.keras.applications.resnet import ResNet50\n",
                "from tensorflow.keras.preprocessing import image\n",
                "from tensorflow.keras.models import Model\n",
                "\n",
                "from tensorflow.keras.applications.resnet import preprocess_input\n",
                "\n",
                "from tensorflow.keras.optimizers import Adam \n",
                "\n",
                "\n",
                "import matplotlib.pyplot as plt\n",
                "from tensorflow.keras.applications import VGG16\n",
                "from tensorflow.keras.applications.densenet import DenseNet121,DenseNet169,DenseNet201\n",
                "from tensorflow.keras.applications.inception_resnet_v2 import InceptionResNetV2\n",
                "from tensorflow.keras.applications.xception import Xception\n",
                "from tensorflow.keras.applications import VGG16\n",
                "from tensorflow.keras.preprocessing import image\n",
                "from tensorflow.keras.models import Model"
            ],
            "execution_count": null,
            "outputs": []
        },
        {
            "cell_type": "code",
            "metadata": {
                "id": "wWc03F6T2P0C",
                "colab": {
                    "base_uri": "https://localhost:8080/",
                    "height": 68
                },
                "executionInfo": {
                    "status": "ok",
                    "timestamp": 1586867717258,
                    "user_tz": -60,
                    "elapsed": 5351
                },
                "outputId": "760bb22e-a816-40dd-b060-ca66789a734d"
            },
            "source": [
                "#train_datagen=ImageDataGenerator(preprocessing_function=preprocess_input)#,rotation_range=30,shear_range=0.25,zoom_range=0.1, horizontal_flip = True) \n",
                "train_datagen = ImageDataGenerator(rescale=1./255,\n",
                "                                   rotation_range=30,\n",
                "                                   shear_range=0.25,\n",
                "                                   zoom_range=0.1, \n",
                "                                   horizontal_flip = True\n",
                "                                   )\n",
                "train_generator=train_datagen.flow_from_directory(TRAINDATAPATH, \n",
                "                                                 target_size=(224,224),\n",
                "                                                 batch_size=1,\n",
                "                                                 class_mode=\"categorical\",\n",
                "                                                 shuffle=True)\n",
                "\n",
                "\n",
                "valid_generator=train_datagen.flow_from_directory(VALIDDATAPATH, \n",
                "                                                 target_size=(224,224),\n",
                "                                                 batch_size=1,\n",
                "                                                 class_mode=\"categorical\",\n",
                "                                                 shuffle=True)\n",
                "\n",
                "eval_generator = train_datagen.flow_from_directory(TESTDATAPATH,\n",
                "                                                  target_size=(224,224),\n",
                "                                                  batch_size=1,\n",
                "                                                  shuffle=True,\n",
                "                                                  seed=42,\n",
                "                                                  class_mode=\"categorical\")"
            ],
            "execution_count": null,
            "outputs": []
        },
        {
            "cell_type": "code",
            "metadata": {
                "id": "MVYhC-Cd3DDq",
                "colab": {
                    "base_uri": "https://localhost:8080/",
                    "height": 34
                },
                "executionInfo": {
                    "status": "ok",
                    "timestamp": 1586867717260,
                    "user_tz": -60,
                    "elapsed": 3131
                },
                "outputId": "1e191fdb-f3b0-42f6-fff2-cc0d2df082be"
            },
            "source": [
                "print(train_generator.class_indices)"
            ],
            "execution_count": null,
            "outputs": []
        },
        {
            "cell_type": "code",
            "metadata": {
                "id": "5Xg7nte0I9Wl"
            },
            "source": [
                "import matplotlib.pyplot as plt\n",
                "\n",
                "\n",
                "def plot_acc_loss(result, epochs):\n",
                "    acc = result.history['accuracy']\n",
                "    loss = result.history['loss']\n",
                "    val_acc = result.history['val_accuracy']\n",
                "    val_loss = result.history['val_loss']\n",
                "    plt.figure(figsize=(15, 5))\n",
                "    plt.subplot(121)\n",
                "    plt.plot(range(1,epochs), acc[1:], label='Train_acc')\n",
                "    plt.plot(range(1,epochs), val_acc[1:], label='Test_acc')\n",
                "    plt.title('Accuracy over ' + str(epochs) + ' Epochs', size=15)\n",
                "    plt.legend()\n",
                "    plt.grid(True)\n",
                "    plt.subplot(122)\n",
                "    plt.plot(range(1,epochs), loss[1:], label='Train_loss')\n",
                "    plt.plot(range(1,epochs), val_loss[1:], label='Test_loss')\n",
                "    plt.title('Loss over ' + str(epochs) + ' Epochs', size=15)\n",
                "    plt.legend()\n",
                "    plt.grid(True)\n",
                "    plt.show()"
            ],
            "execution_count": null,
            "outputs": []
        },
        {
            "cell_type": "code",
            "metadata": {
                "id": "23dOnSn04EwF",
                "colab": {
                    "base_uri": "https://localhost:8080/",
                    "height": 1000
                },
                "executionInfo": {
                    "status": "ok",
                    "timestamp": 1586868139077,
                    "user_tz": -60,
                    "elapsed": 417020
                },
                "outputId": "57a59bea-e138-41e7-eb52-a7d2740e4341"
            },
            "source": [
                "from tensorflow.keras.applications.resnet import preprocess_input\n",
                "import os\n",
                "from tensorflow.keras import optimizers\n",
                "\n",
                "denseNumber = 3\n",
                "denseNodes = 64\n",
                "dropoutNumber = 0.25\n",
                "batchSize = 2\n",
                "epochNumber = 100\n",
                "\n",
                "LOGNAME = \"DenseNet121_RUN_REAL_2.0_DenseLayers-{0}_DenseNodes-{1}_Dropout-{2}_BatchSize-{3}_EpochNumber-{4}\".format(denseNumber,denseNodes,dropoutNumber,batchSize,epochNumber)\n",
                "log_dir = os.path.join(BASEDIR,\"logs\",LOGNAME,\"fit\",)\n",
                "tensorboard = TensorBoard(log_dir = log_dir)\n",
                "print(LOGNAME)\n",
                "\n",
                "\n",
                "#base_model=ResNet50(include_top=False, weights='imagenet')\n",
                "base_model=DenseNet121(include_top=False, weights='imagenet',pooling=\"avg\")\n",
                "base_model.trainable = False\n",
                "\n",
                "x=base_model.output\n",
                "#x=GlobalAveragePooling2D()(x)\n",
                "x=Flatten()(x)\n",
                "for i in range(denseNumber-1):\n",
                "  x=Dense(denseNodes,activation='relu')(x) \n",
                "  x=Dropout(dropoutNumber)(x) \n",
                "  \n",
                "\n",
                "preds=Dense(3,activation='sigmoid')(x)\n",
                "\n",
                "model=Model(inputs=base_model.input,outputs=preds)\n",
                "\n",
                "model.compile(loss='categorical_crossentropy',optimizer=optimizers.Adam(lr=0.0005),metrics=['accuracy',tf.keras.metrics.Precision(), tf.keras.metrics.Recall(), tf.keras.metrics.TruePositives(),  tf.keras.metrics.TrueNegatives(),  tf.keras.metrics.FalsePositives(),  tf.keras.metrics.FalseNegatives()])\n",
                "\n",
                "step_size_train=train_generator.n//train_generator.batch_size\n",
                "step_size_valid=valid_generator.n//valid_generator.batch_size\n",
                "history=model.fit_generator(train_generator,\n",
                "                    steps_per_epoch =step_size_train,\n",
                "                    validation_data = valid_generator,\n",
                "                    validation_steps = step_size_valid,\n",
                "                    epochs= epochNumber,\n",
                "                    callbacks=[tensorboard]\n",
                "                    )\n",
                "plot_acc_loss(history, epochNumber)\n",
                "print('TEST')\n",
                "\n",
                "eval_generator.reset() \n",
                "x = model.evaluate_generator(eval_generator,\n",
                "                  steps = np.ceil(len(eval_generator) / 1),\n",
                "                  use_multiprocessing = False,\n",
                "                  verbose = 1,\n",
                "                  workers=1\n",
                "                  )\n",
                "\n",
                "print('Test loss:' , x[0])\n",
                "print('Test accuracy:',x[1])\n",
                "print('Test precision:', x[2])\n",
                "print('Test Recall:',x[3])\n",
                "print('Test F1 Score: ',2*(x[2]*x[3])/(x[2]+x[3]))"
            ],
            "execution_count": null,
            "outputs": []
        },
        {
            "cell_type": "code",
            "metadata": {
                "id": "p7ZSwZN7te0h",
                "colab": {
                    "base_uri": "https://localhost:8080/",
                    "height": 34
                },
                "executionInfo": {
                    "status": "ok",
                    "timestamp": 1586868159016,
                    "user_tz": -60,
                    "elapsed": 2196
                },
                "outputId": "d92034cd-79bb-4b5c-d4cf-59fb14611057"
            },
            "source": [
                "len(eval_generator)"
            ],
            "execution_count": null,
            "outputs": []
        },
        {
            "cell_type": "code",
            "metadata": {
                "id": "e-ZzZmGRQKIW",
                "colab": {
                    "base_uri": "https://localhost:8080/",
                    "height": 51
                },
                "executionInfo": {
                    "status": "ok",
                    "timestamp": 1586868222308,
                    "user_tz": -60,
                    "elapsed": 2945
                },
                "outputId": "c2fe74d3-59b5-4cf9-d5dd-de2a795009c6"
            },
            "source": [
                "eval_generator.reset()  \n",
                "pred = model.predict_generator(eval_generator,steps = len(eval_generator),verbose=1)\n",
                "print(\"Predictions finished\")"
            ],
            "execution_count": null,
            "outputs": []
        },
        {
            "cell_type": "code",
            "metadata": {
                "id": "Z065xMzAPrY0",
                "colab": {
                    "base_uri": "https://localhost:8080/",
                    "height": 1000,
                    "output_embedded_package_id": "1Ij2edw_2SprO7EAMt1MbR96RGGTmc7OA"
                },
                "executionInfo": {
                    "status": "ok",
                    "timestamp": 1586868432550,
                    "user_tz": -60,
                    "elapsed": 14058
                },
                "outputId": "503f4f4b-5211-42d4-ff62-f534f5179582"
            },
            "source": [
                "import cv2\n",
                "\n",
                "import matplotlib.pyplot as plt\n",
                "import matplotlib.image as mpimg\n",
                "tmp_lst=[]\n",
                "for index, probability in enumerate(pred):\n",
                "    print(probability)\n",
                "    arg=np.argmax(probability)\n",
                "    \n",
                "    image_path = TESTDATAPATH + \"/\" +eval_generator.filenames[index]\n",
                "    image = mpimg.imread(image_path)\n",
                "    image = cv2.cvtColor(image, cv2.COLOR_BGR2RGB)\n",
                "\n",
                "    pixels = np.array(image)\n",
                "    plt.imshow(pixels)\n",
                "    \n",
                "    print()\n",
                "    if arg == 0:\n",
                "        tmp_lst.append((eval_generator.filenames[index],'covid-19'))\n",
                "        plt.title(\"%.2f\" % (probability[arg]*100) + \"% COVID19\")\n",
                "    elif arg == 1:\n",
                "        tmp_lst.append((eval_generator.filenames[index],'healthy'))\n",
                "        plt.title(\"%.2f\" % (probability[arg]*100) + \"% Healthy\")\n",
                "    else:\n",
                "        tmp_lst.append((eval_generator.filenames[index],'pneumonia'))\n",
                "        plt.title(\"%.2f\" % (probability[arg]*100) + \"% Pneumonia\")\n",
                "    plt.show()"
            ],
            "execution_count": null,
            "outputs": []
        },
        {
            "cell_type": "code",
            "metadata": {
                "id": "_4DLhJqtt4LX",
                "colab": {
                    "base_uri": "https://localhost:8080/",
                    "height": 833
                },
                "executionInfo": {
                    "status": "ok",
                    "timestamp": 1586868433957,
                    "user_tz": -60,
                    "elapsed": 1309
                },
                "outputId": "a9047465-0b8b-4ba7-e6b3-10b613a35219"
            },
            "source": [
                "tmp_lst"
            ],
            "execution_count": null,
            "outputs": []
        },
        {
            "cell_type": "code",
            "metadata": {
                "id": "MBqTyUlfupJh"
            },
            "source": [
                "import numpy as np\n",
                "arg=np.argmax(np.array([7.7917069e-01,2.5371173e-06, 8.7350083e-04]))"
            ],
            "execution_count": null,
            "outputs": []
        },
        {
            "cell_type": "code",
            "metadata": {
                "id": "zM-nqbf3yfQ0",
                "colab": {
                    "base_uri": "https://localhost:8080/",
                    "height": 34
                },
                "executionInfo": {
                    "status": "ok",
                    "timestamp": 1586869536394,
                    "user_tz": -60,
                    "elapsed": 2102
                },
                "outputId": "3768041a-df14-43ad-984a-264b271553a7"
            },
            "source": [
                "arg"
            ],
            "execution_count": null,
            "outputs": []
        },
        {
            "cell_type": "code",
            "metadata": {
                "id": "KkEMzi-Cy3u0"
            },
            "source": [],
            "execution_count": null,
            "outputs": []
        }
    ]
}